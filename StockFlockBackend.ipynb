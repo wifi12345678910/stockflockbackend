{
 "cells": [
  {
   "cell_type": "code",
   "execution_count": 108,
   "metadata": {},
   "outputs": [],
   "source": [
    "import numpy as np\n",
    "import pandas as pd"
   ]
  },
  {
   "cell_type": "code",
   "execution_count": 109,
   "metadata": {},
   "outputs": [],
   "source": [
    "aapl = pd.read_csv('AAPL.csv', usecols=['Date','Close'])\n",
    "amd = pd.read_csv('AMD.csv', usecols=['Date','Close'])\n",
    "amzn = pd.read_csv('AMZN.csv', usecols=['Date','Close'])\n",
    "bbby = pd.read_csv('BBBY.csv', usecols=['Date','Close'])\n",
    "brka = pd.read_csv('BRK-A.csv', usecols=['Date','Close'])\n",
    "cof = pd.read_csv('COF.csv', usecols=['Date','Close'])\n",
    "dish = pd.read_csv('DISH.csv', usecols=['Date','Close'])\n",
    "f = pd.read_csv('F.csv', usecols=['Date','Close'])\n",
    "ibm = pd.read_csv('IBM.csv', usecols=['Date','Close'])\n",
    "msft = pd.read_csv('MSFT.csv', usecols=['Date','Close'])\n",
    "nflx = pd.read_csv('NFLX.csv', usecols=['Date','Close'])\n",
    "ns = pd.read_csv('NS.csv', usecols=['Date','Close'])\n",
    "nvda = pd.read_csv('NVDA.csv', usecols=['Date','Close'])\n",
    "siri = pd.read_csv('SIRI.csv', usecols=['Date','Close'])\n",
    "wix = pd.read_csv('WIX.csv', usecols=['Date','Close'])"
   ]
  },
  {
   "cell_type": "code",
   "execution_count": 110,
   "metadata": {},
   "outputs": [],
   "source": [
    "stocks = pd.merge(aapl, amd, on='Date', suffixes= ('_aapl', '_amd'))\n",
    "stocks = stocks.merge(amzn, on='Date', suffixes=('', '_amzn'))\n",
    "stocks = stocks.merge(bbby, on='Date', suffixes=('', '_bbby'))\n",
    "stocks = stocks.merge(brka, on='Date', suffixes=('', '_brka'))\n",
    "stocks = stocks.merge(cof, on='Date', suffixes=('', '_cof'))\n",
    "stocks = stocks.merge(dish, on='Date', suffixes=('', '_dish'))\n",
    "stocks = stocks.merge(f, on='Date', suffixes=('', '_f'))\n",
    "stocks = stocks.merge(ibm, on='Date', suffixes=('', '_ibm'))\n",
    "stocks = stocks.merge(msft, on='Date', suffixes=('', '_msft'))\n",
    "stocks = stocks.merge(nflx, on='Date', suffixes=('', '_nflx'))\n",
    "stocks = stocks.merge(ns, on='Date', suffixes=('', '_ns'))\n",
    "stocks = stocks.merge(nvda, on='Date', suffixes=('', '_nvda'))\n",
    "stocks = stocks.merge(siri, on='Date', suffixes=('', '_siri'))\n",
    "stocks = stocks.merge(wix, on='Date', suffixes=('', '_wix'))\n",
    "stocks.to_csv('closeValues.csv', index=False)"
   ]
  },
  {
   "cell_type": "code",
   "execution_count": 111,
   "metadata": {},
   "outputs": [
    {
     "name": "stdout",
     "output_type": "stream",
     "text": [
      "(1, 18)\n"
     ]
    }
   ],
   "source": [
    "total =0\n",
    "stocknumbers = np.zeros(15)\n",
    "uuid = 'dummy'\n",
    "users = pd.DataFrame([[uuid, 1, total, stocknumbers[0], stocknumbers[1], stocknumbers[2], stocknumbers[3], stocknumbers[4], stocknumbers[5], stocknumbers[6], stocknumbers[7], stocknumbers[8], stocknumbers[9], stocknumbers[10], stocknumbers[11], stocknumbers[12], stocknumbers[13], stocknumbers[14]]], columns=['uuid', 'weight', 'previous value', 'Apple', 'AMD', 'Amazon', 'Bed Bath and Beyond', 'Berkshire Hathaway', 'Capital One', 'Dish', 'Ford', 'IBM', 'Microsoft', 'Netflix', 'Norfolk Southern', 'Nvidia', 'Sirius XM', 'WIX'])\n",
    "print(users.shape)\n",
    "users.to_csv('users.csv', index = False)"
   ]
  },
  {
   "cell_type": "code",
   "execution_count": 112,
   "metadata": {},
   "outputs": [],
   "source": [
    "def addUser(currentValues, uuid, stocknumbers):\n",
    "    users = pd.read_csv('users.csv')\n",
    "    total = 0\n",
    "    for x in range(len(stocknumbers)-1) :\n",
    "        total += currentValues[x] * stocknumbers[x]\n",
    "    newUser = pd.DataFrame([[uuid, 1, total, stocknumbers[0], stocknumbers[1], stocknumbers[2], stocknumbers[3], stocknumbers[4], stocknumbers[5], stocknumbers[6], stocknumbers[7], stocknumbers[8], stocknumbers[9], stocknumbers[10], stocknumbers[11], stocknumbers[12], stocknumbers[13], stocknumbers[14]]], columns=['uuid', 'weight', 'previous value', 'Apple', 'AMD', 'Amazon', 'Bed Bath and Beyond', 'Berkshire Hathaway', 'Capital One', 'Dish', 'Ford', 'IBM', 'Microsoft', 'Netflix', 'Norfolk Southern', 'Nvidia', 'Sirius XM', 'WIX'])\n",
    "    print(users.shape)\n",
    "    print(newUser.shape)\n",
    "    users = pd.concat([users,newUser])\n",
    "    print(users.shape)\n",
    "    users.to_csv('users.csv', index = False)"
   ]
  },
  {
   "cell_type": "code",
   "execution_count": 113,
   "metadata": {},
   "outputs": [],
   "source": [
    "def nextDay(currDate):\n",
    "    users = pd.read_csv('users.csv')\n",
    "    stocks = pd.read_csv('closeValues.csv')\n",
    "    idx = stocks[stocks['Date' == currDate ]].index\n",
    "    newDate = stocks['Date'].iloc[idx + 1]\n",
    "    newPrice = stocks.iloc[idx + 1, 1:16].squeeze()\n",
    "    uservalues = users.iloc[1:,4:18]\n",
    "    uservalues.apply(newPrice,axis=1)\n",
    "    usertotal = uservalues.sum()\n",
    "    userpct = usertotal/users.loc['previous value']\n",
    "\n",
    "    return newDate, newPrice\n",
    "\n",
    "    \n"
   ]
  },
  {
   "cell_type": "code",
   "execution_count": 114,
   "metadata": {},
   "outputs": [
    {
     "name": "stdout",
     "output_type": "stream",
     "text": [
      "(1, 18)\n",
      "(1, 18)\n",
      "(2, 18)\n"
     ]
    }
   ],
   "source": [
    "currValues = stocks.iloc[1,1:16].squeeze()\n",
    "addUser(currValues, \"test\", np.ones(15))\n",
    "users = pd.read_csv('users.csv')"
   ]
  }
 ],
 "metadata": {
  "kernelspec": {
   "display_name": "hacklytics23",
   "language": "python",
   "name": "python3"
  },
  "language_info": {
   "codemirror_mode": {
    "name": "ipython",
    "version": 3
   },
   "file_extension": ".py",
   "mimetype": "text/x-python",
   "name": "python",
   "nbconvert_exporter": "python",
   "pygments_lexer": "ipython3",
   "version": "3.10.9"
  },
  "orig_nbformat": 4,
  "vscode": {
   "interpreter": {
    "hash": "b3120c27a5a989a928adeae3582613da5bd4fca799cf05f087982a9cf7472fc6"
   }
  }
 },
 "nbformat": 4,
 "nbformat_minor": 2
}
