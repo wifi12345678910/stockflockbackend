{
 "cells": [
  {
   "cell_type": "code",
   "execution_count": 1,
   "metadata": {},
   "outputs": [],
   "source": [
    "import numpy as np\n",
    "import pandas as pd"
   ]
  },
  {
   "cell_type": "code",
   "execution_count": 2,
   "metadata": {},
   "outputs": [],
   "source": [
    "aapl = pd.read_csv('AAPL.csv', usecols=['Date','Close'])\n",
    "amd = pd.read_csv('AMD.csv', usecols=['Date','Close'])\n",
    "amzn = pd.read_csv('AMZN.csv', usecols=['Date','Close'])\n",
    "bbby = pd.read_csv('BBBY.csv', usecols=['Date','Close'])\n",
    "brka = pd.read_csv('BRK-A.csv', usecols=['Date','Close'])\n",
    "cof = pd.read_csv('COF.csv', usecols=['Date','Close'])\n",
    "dish = pd.read_csv('DISH.csv', usecols=['Date','Close'])\n",
    "f = pd.read_csv('F.csv', usecols=['Date','Close'])\n",
    "ibm = pd.read_csv('IBM.csv', usecols=['Date','Close'])\n",
    "msft = pd.read_csv('MSFT.csv', usecols=['Date','Close'])\n",
    "nflx = pd.read_csv('NFLX.csv', usecols=['Date','Close'])\n",
    "ns = pd.read_csv('NS.csv', usecols=['Date','Close'])\n",
    "nvda = pd.read_csv('NVDA.csv', usecols=['Date','Close'])\n",
    "siri = pd.read_csv('SIRI.csv', usecols=['Date','Close'])\n",
    "wix = pd.read_csv('WIX.csv', usecols=['Date','Close'])"
   ]
  },
  {
   "cell_type": "code",
   "execution_count": 4,
   "metadata": {},
   "outputs": [],
   "source": [
    "stocks = pd.merge(aapl, amd, on='Date', suffixes= ('_aapl', '_amd'))\n",
    "stocks = stocks.merge(amzn, on='Date', suffixes=('', '_amzn'))\n",
    "stocks = stocks.merge(bbby, on='Date', suffixes=('', '_bbby'))\n",
    "stocks = stocks.merge(brka, on='Date', suffixes=('', '_brka'))\n",
    "stocks = stocks.merge(cof, on='Date', suffixes=('', '_cof'))\n",
    "stocks = stocks.merge(dish, on='Date', suffixes=('', '_dish'))\n",
    "stocks = stocks.merge(f, on='Date', suffixes=('', '_f'))\n",
    "stocks = stocks.merge(ibm, on='Date', suffixes=('', '_ibm'))\n",
    "stocks = stocks.merge(msft, on='Date', suffixes=('', '_msft'))\n",
    "stocks = stocks.merge(nflx, on='Date', suffixes=('', '_nflx'))\n",
    "stocks = stocks.merge(ns, on='Date', suffixes=('', '_ns'))\n",
    "stocks = stocks.merge(nvda, on='Date', suffixes=('', '_nvda'))\n",
    "stocks = stocks.merge(siri, on='Date', suffixes=('', '_siri'))\n",
    "stocks = stocks.merge(wix, on='Date', suffixes=('', '_wix'))"
   ]
  },
  {
   "cell_type": "code",
   "execution_count": 9,
   "metadata": {},
   "outputs": [],
   "source": [
    "users = pd.DataFrame(columns=['uuid', 'weight', 'previous value', 'Apple', 'AMD', 'Amazon', 'Bed Bath and Beyond', 'Berkshire Hathaway', 'Capital One', 'Dish', 'Ford', 'IBM', 'Microsoft', 'Netflix', 'Norfolk Southern', 'Nvidia', 'Sirius XM', 'WIX'])\n"
   ]
  },
  {
   "cell_type": "code",
   "execution_count": null,
   "metadata": {},
   "outputs": [],
   "source": [
    "def add_user(uuid, stocknumbers):\n",
    "   users.loc[18] =  []"
   ]
  }
 ],
 "metadata": {
  "kernelspec": {
   "display_name": "hacklytics23",
   "language": "python",
   "name": "python3"
  },
  "language_info": {
   "codemirror_mode": {
    "name": "ipython",
    "version": 3
   },
   "file_extension": ".py",
   "mimetype": "text/x-python",
   "name": "python",
   "nbconvert_exporter": "python",
   "pygments_lexer": "ipython3",
   "version": "3.10.9"
  },
  "orig_nbformat": 4,
  "vscode": {
   "interpreter": {
    "hash": "b3120c27a5a989a928adeae3582613da5bd4fca799cf05f087982a9cf7472fc6"
   }
  }
 },
 "nbformat": 4,
 "nbformat_minor": 2
}
