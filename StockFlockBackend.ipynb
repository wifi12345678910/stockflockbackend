{
 "cells": [
  {
   "cell_type": "code",
   "execution_count": 21,
   "metadata": {},
   "outputs": [],
   "source": [
    "import numpy as np\n",
    "import pandas as pd"
   ]
  },
  {
   "cell_type": "code",
   "execution_count": 22,
   "metadata": {},
   "outputs": [],
   "source": [
    "aapl = pd.read_csv('AAPL.csv', usecols=['Date','Close'])\n",
    "amd = pd.read_csv('AMD.csv', usecols=['Date','Close'])\n",
    "amzn = pd.read_csv('AMZN.csv', usecols=['Date','Close'])\n",
    "bbby = pd.read_csv('BBBY.csv', usecols=['Date','Close'])\n",
    "brka = pd.read_csv('BRK-A.csv', usecols=['Date','Close'])\n",
    "cof = pd.read_csv('COF.csv', usecols=['Date','Close'])\n",
    "dish = pd.read_csv('DISH.csv', usecols=['Date','Close'])\n",
    "f = pd.read_csv('F.csv', usecols=['Date','Close'])\n",
    "ibm = pd.read_csv('IBM.csv', usecols=['Date','Close'])\n",
    "msft = pd.read_csv('MSFT.csv', usecols=['Date','Close'])\n",
    "nflx = pd.read_csv('NFLX.csv', usecols=['Date','Close'])\n",
    "ns = pd.read_csv('NS.csv', usecols=['Date','Close'])\n",
    "nvda = pd.read_csv('NVDA.csv', usecols=['Date','Close'])\n",
    "siri = pd.read_csv('SIRI.csv', usecols=['Date','Close'])\n",
    "wix = pd.read_csv('WIX.csv', usecols=['Date','Close'])"
   ]
  },
  {
   "cell_type": "code",
   "execution_count": 23,
   "metadata": {},
   "outputs": [],
   "source": [
    "stocks = pd.merge(aapl, amd, on='Date', suffixes= ('_aapl', '_amd'))\n",
    "stocks = stocks.merge(amzn, on='Date', suffixes=('','_amzn'))\n",
    "stocks = stocks.merge(bbby, on='Date', suffixes=('', '_bbby'))\n",
    "stocks = stocks.merge(brka, on='Date', suffixes=('', '_brka'))\n",
    "stocks = stocks.merge(cof, on='Date', suffixes=('', '_cof'))\n",
    "stocks = stocks.merge(dish, on='Date', suffixes=('', '_dish'))\n",
    "stocks = stocks.merge(f, on='Date', suffixes=('', '_f'))\n",
    "stocks = stocks.merge(ibm, on='Date', suffixes=('', '_ibm'))\n",
    "stocks = stocks.merge(msft, on='Date', suffixes=('', '_msft'))\n",
    "stocks = stocks.merge(nflx, on='Date', suffixes=('', '_nflx'))\n",
    "stocks = stocks.merge(ns, on='Date', suffixes=('', '_ns'))\n",
    "stocks = stocks.merge(nvda, on='Date', suffixes=('', '_nvda'))\n",
    "stocks = stocks.merge(siri, on='Date', suffixes=('', '_siri'))\n",
    "stocks = stocks.merge(wix, on='Date', suffixes=('', '_wix'))\n",
    "stocks.rename(columns={'Date':'Date','Close_aapl':'Apple', 'Close_amd':'AMD', 'Close':'Amazon', 'Close_bbby':'Bed Bath and Beyond', 'Close_brka':'Berkshire Hathaway', 'Close_cof':'Capital One', 'Close_dish':'Dish', 'Close_f':'Ford', 'Close_ibm':'IBM', 'Close_msft':'Microsoft', 'Close_nflx':'Netflix', 'Close_ns':'Norfolk Southern', 'Close_nvda':'Nvidia', 'Close_siri':'Sirius XM', 'Close_wix':'WIX'}, inplace=True)\n",
    "stocks.to_csv('closeValues.csv', index=False)"
   ]
  },
  {
   "cell_type": "code",
   "execution_count": 24,
   "metadata": {},
   "outputs": [],
   "source": [
    "users = pd.DataFrame(columns=['uuid', 'weight', 'previous value', 'Apple', 'AMD', 'Amazon', 'Bed Bath and Beyond', 'Berkshire Hathaway', 'Capital One', 'Dish', 'Ford', 'IBM', 'Microsoft', 'Netflix', 'Norfolk Southern', 'Nvidia', 'Sirius XM', 'WIX'])\n",
    "users.to_csv('users.csv', index = False)"
   ]
  },
  {
   "cell_type": "code",
   "execution_count": 25,
   "metadata": {},
   "outputs": [],
   "source": [
    "def addUser(currentValues, uuid, stocknumbers):\n",
    "    users = pd.read_csv('users.csv')\n",
    "    total = 0\n",
    "    for x in range(len(stocknumbers)-1) :\n",
    "        total += currentValues[x] * stocknumbers[x]\n",
    "    newUser = pd.DataFrame([[uuid, 1, total, stocknumbers[0], stocknumbers[1], stocknumbers[2], stocknumbers[3], stocknumbers[4], stocknumbers[5], stocknumbers[6], stocknumbers[7], stocknumbers[8], stocknumbers[9], stocknumbers[10], stocknumbers[11], stocknumbers[12], stocknumbers[13], stocknumbers[14]]], columns=['uuid', 'weight', 'previous value', 'Apple', 'AMD', 'Amazon', 'Bed Bath and Beyond', 'Berkshire Hathaway', 'Capital One', 'Dish', 'Ford', 'IBM', 'Microsoft', 'Netflix', 'Norfolk Southern', 'Nvidia', 'Sirius XM', 'WIX'])\n",
    "    users = pd.concat([users,newUser])\n",
    "    users.to_csv('users.csv', index = False)"
   ]
  },
  {
   "cell_type": "code",
   "execution_count": 26,
   "metadata": {},
   "outputs": [],
   "source": [
    "def nextDay(currDate):\n",
    "    users = pd.read_csv('users.csv')\n",
    "    stocks = pd.read_csv('closeValues.csv')\n",
    "    idx = stocks[stocks['Date'] == currDate].index\n",
    "    newDate = stocks.iloc[idx+1,0].squeeze()\n",
    "    newPrice = stocks.iloc[idx + 1, 1:17].squeeze()\n",
    "    uservalues = users.iloc[:,3:19]\n",
    "    uservalues = uservalues.multiply(newPrice)\n",
    "    usertotal = uservalues.sum(axis=1)\n",
    "    userot = users['previous value']\n",
    "    userpct = usertotal.div(userot, axis = 0, fill_value=1)\n",
    "    users['weight'] = users['weight'].multiply(userpct, axis = 0)\n",
    "    users.to_csv('users.csv', index=False)\n",
    "    return newDate, newPrice\n",
    "\n",
    "    \n"
   ]
  },
  {
   "cell_type": "code",
   "execution_count": 27,
   "metadata": {},
   "outputs": [],
   "source": [
    "currValues = stocks.iloc[1,1:17].squeeze()\n",
    "currDate = \"06-11-2013\""
   ]
  },
  {
   "cell_type": "code",
   "execution_count": 28,
   "metadata": {},
   "outputs": [],
   "source": [
    "currDate, currValues = nextDay(currDate)"
   ]
  },
  {
   "cell_type": "code",
   "execution_count": 29,
   "metadata": {},
   "outputs": [],
   "source": [
    "labels = ['Apple', 'AMD', 'Amazon', 'Bed Bath and Beyond', 'Berkshire Hathaway', 'Capital One', 'Dish', 'Ford', 'IBM', 'Microsoft', 'Netflix', 'Norfolk Southern', 'Nvidia', 'Sirius XM', 'WIX']\n",
    "for x in range(15):\n",
    "    stocknum = np.zeros(15)\n",
    "    stocknum[x] = 1\n",
    "    addUser(currValues, labels[x], stocknum)\n",
    "    "
   ]
  },
  {
   "cell_type": "code",
   "execution_count": 30,
   "metadata": {},
   "outputs": [],
   "source": [
    "for x in range(20):\n",
    "    currDate, currValues = nextDay(currDate)"
   ]
  }
 ],
 "metadata": {
  "kernelspec": {
   "display_name": "Python ('hacklytics')",
   "language": "python",
   "name": "python3"
  },
  "language_info": {
   "codemirror_mode": {
    "name": "ipython",
    "version": 3
   },
   "file_extension": ".py",
   "mimetype": "text/x-python",
   "name": "python",
   "nbconvert_exporter": "python",
   "pygments_lexer": "ipython3",
   "version": "3.9.12"
  },
  "orig_nbformat": 4,
  "vscode": {
   "interpreter": {
    "hash": "25a19fbe0a9132dfb9279d48d161753c6352f8f9478c2e74383d340069b907c3"
   }
  }
 },
 "nbformat": 4,
 "nbformat_minor": 2
}
